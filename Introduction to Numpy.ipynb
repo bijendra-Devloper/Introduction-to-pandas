{
 "cells": [
  {
   "cell_type": "code",
   "execution_count": 2,
   "metadata": {},
   "outputs": [],
   "source": [
    "import numpy as np"
   ]
  },
  {
   "cell_type": "markdown",
   "metadata": {},
   "source": [
    "## Data Types and Attributes"
   ]
  },
  {
   "cell_type": "code",
   "execution_count": 5,
   "metadata": {},
   "outputs": [
    {
     "data": {
      "text/plain": [
       "array([1, 2, 3])"
      ]
     },
     "execution_count": 5,
     "metadata": {},
     "output_type": "execute_result"
    }
   ],
   "source": [
    "# Numpy's main data types is ndarray\n",
    "a1 = np.array([1, 2, 3])\n",
    "a1"
   ]
  },
  {
   "cell_type": "code",
   "execution_count": 3,
   "metadata": {},
   "outputs": [
    {
     "data": {
      "text/plain": [
       "numpy.ndarray"
      ]
     },
     "execution_count": 3,
     "metadata": {},
     "output_type": "execute_result"
    }
   ],
   "source": [
    "type(a1)"
   ]
  },
  {
   "cell_type": "code",
   "execution_count": 6,
   "metadata": {},
   "outputs": [],
   "source": [
    "a2 = np.array([[1, 2.2, 3.3],\n",
    "              [4, 5, 6.5]])\n",
    "\n",
    "\n",
    "a3 = np.array([[[1, 2, 3],\n",
    "               [4, 5, 6],\n",
    "               [7, 8, 9]],\n",
    "             [[10, 11, 12],\n",
    "             [13, 14, 15],\n",
    "             [16, 17, 18]]])"
   ]
  },
  {
   "cell_type": "code",
   "execution_count": 6,
   "metadata": {},
   "outputs": [
    {
     "data": {
      "text/plain": [
       "array([[1. , 2.2, 3.3],\n",
       "       [4. , 5. , 6.5]])"
      ]
     },
     "execution_count": 6,
     "metadata": {},
     "output_type": "execute_result"
    }
   ],
   "source": [
    "a2"
   ]
  },
  {
   "cell_type": "code",
   "execution_count": 7,
   "metadata": {},
   "outputs": [
    {
     "data": {
      "text/plain": [
       "array([[[ 1,  2,  3],\n",
       "        [ 4,  5,  6],\n",
       "        [ 7,  8,  9]],\n",
       "\n",
       "       [[10, 11, 12],\n",
       "        [13, 14, 15],\n",
       "        [16, 17, 18]]])"
      ]
     },
     "execution_count": 7,
     "metadata": {},
     "output_type": "execute_result"
    }
   ],
   "source": [
    "a3"
   ]
  },
  {
   "cell_type": "code",
   "execution_count": 8,
   "metadata": {},
   "outputs": [
    {
     "data": {
      "text/plain": [
       "(3,)"
      ]
     },
     "execution_count": 8,
     "metadata": {},
     "output_type": "execute_result"
    }
   ],
   "source": [
    "a1.shape"
   ]
  },
  {
   "cell_type": "code",
   "execution_count": 9,
   "metadata": {},
   "outputs": [
    {
     "data": {
      "text/plain": [
       "(2, 3)"
      ]
     },
     "execution_count": 9,
     "metadata": {},
     "output_type": "execute_result"
    }
   ],
   "source": [
    "a2.shape"
   ]
  },
  {
   "cell_type": "code",
   "execution_count": 10,
   "metadata": {},
   "outputs": [
    {
     "data": {
      "text/plain": [
       "(2, 3, 3)"
      ]
     },
     "execution_count": 10,
     "metadata": {},
     "output_type": "execute_result"
    }
   ],
   "source": [
    "a3.shape"
   ]
  },
  {
   "cell_type": "code",
   "execution_count": 11,
   "metadata": {},
   "outputs": [
    {
     "data": {
      "text/plain": [
       "(1, 2, 3)"
      ]
     },
     "execution_count": 11,
     "metadata": {},
     "output_type": "execute_result"
    }
   ],
   "source": [
    "a1.ndim, a2.ndim, a3.ndim"
   ]
  },
  {
   "cell_type": "code",
   "execution_count": 12,
   "metadata": {},
   "outputs": [
    {
     "data": {
      "text/plain": [
       "(dtype('int32'), dtype('float64'), dtype('int32'))"
      ]
     },
     "execution_count": 12,
     "metadata": {},
     "output_type": "execute_result"
    }
   ],
   "source": [
    "a1.dtype, a2.dtype, a3.dtype"
   ]
  },
  {
   "cell_type": "code",
   "execution_count": 13,
   "metadata": {},
   "outputs": [
    {
     "data": {
      "text/plain": [
       "(3, 6, 18)"
      ]
     },
     "execution_count": 13,
     "metadata": {},
     "output_type": "execute_result"
    }
   ],
   "source": [
    "a1.size, a2.size, a3.size"
   ]
  },
  {
   "cell_type": "code",
   "execution_count": 14,
   "metadata": {},
   "outputs": [
    {
     "data": {
      "text/plain": [
       "(numpy.ndarray, numpy.ndarray, numpy.ndarray)"
      ]
     },
     "execution_count": 14,
     "metadata": {},
     "output_type": "execute_result"
    }
   ],
   "source": [
    "type(a1), type(a2), type(a3)"
   ]
  },
  {
   "cell_type": "code",
   "execution_count": 15,
   "metadata": {},
   "outputs": [],
   "source": [
    "# Create a DataFrame from a NumPy array\n",
    "import pandas as pd\n",
    "\n",
    "df = pd.DataFrame(a2)"
   ]
  },
  {
   "cell_type": "code",
   "execution_count": 16,
   "metadata": {},
   "outputs": [
    {
     "data": {
      "text/html": [
       "<div>\n",
       "<style scoped>\n",
       "    .dataframe tbody tr th:only-of-type {\n",
       "        vertical-align: middle;\n",
       "    }\n",
       "\n",
       "    .dataframe tbody tr th {\n",
       "        vertical-align: top;\n",
       "    }\n",
       "\n",
       "    .dataframe thead th {\n",
       "        text-align: right;\n",
       "    }\n",
       "</style>\n",
       "<table border=\"1\" class=\"dataframe\">\n",
       "  <thead>\n",
       "    <tr style=\"text-align: right;\">\n",
       "      <th></th>\n",
       "      <th>0</th>\n",
       "      <th>1</th>\n",
       "      <th>2</th>\n",
       "    </tr>\n",
       "  </thead>\n",
       "  <tbody>\n",
       "    <tr>\n",
       "      <th>0</th>\n",
       "      <td>1.0</td>\n",
       "      <td>2.2</td>\n",
       "      <td>3.3</td>\n",
       "    </tr>\n",
       "    <tr>\n",
       "      <th>1</th>\n",
       "      <td>4.0</td>\n",
       "      <td>5.0</td>\n",
       "      <td>6.5</td>\n",
       "    </tr>\n",
       "  </tbody>\n",
       "</table>\n",
       "</div>"
      ],
      "text/plain": [
       "     0    1    2\n",
       "0  1.0  2.2  3.3\n",
       "1  4.0  5.0  6.5"
      ]
     },
     "execution_count": 16,
     "metadata": {},
     "output_type": "execute_result"
    }
   ],
   "source": [
    "df"
   ]
  },
  {
   "cell_type": "markdown",
   "metadata": {},
   "source": [
    "## 2. Creating arrays"
   ]
  },
  {
   "cell_type": "code",
   "execution_count": 17,
   "metadata": {},
   "outputs": [
    {
     "data": {
      "text/plain": [
       "array([1, 2, 3])"
      ]
     },
     "execution_count": 17,
     "metadata": {},
     "output_type": "execute_result"
    }
   ],
   "source": [
    "sample_array = np.array([1, 2, 3])\n",
    "sample_array"
   ]
  },
  {
   "cell_type": "code",
   "execution_count": 19,
   "metadata": {},
   "outputs": [
    {
     "data": {
      "text/plain": [
       "dtype('int32')"
      ]
     },
     "execution_count": 19,
     "metadata": {},
     "output_type": "execute_result"
    }
   ],
   "source": [
    "sample_array.dtype"
   ]
  },
  {
   "cell_type": "code",
   "execution_count": 20,
   "metadata": {},
   "outputs": [],
   "source": [
    "ones = np.ones((2, 3))"
   ]
  },
  {
   "cell_type": "code",
   "execution_count": 21,
   "metadata": {},
   "outputs": [
    {
     "data": {
      "text/plain": [
       "array([[1., 1., 1.],\n",
       "       [1., 1., 1.]])"
      ]
     },
     "execution_count": 21,
     "metadata": {},
     "output_type": "execute_result"
    }
   ],
   "source": [
    "ones"
   ]
  },
  {
   "cell_type": "code",
   "execution_count": 22,
   "metadata": {},
   "outputs": [
    {
     "data": {
      "text/plain": [
       "dtype('float64')"
      ]
     },
     "execution_count": 22,
     "metadata": {},
     "output_type": "execute_result"
    }
   ],
   "source": [
    "ones.dtype"
   ]
  },
  {
   "cell_type": "code",
   "execution_count": 23,
   "metadata": {},
   "outputs": [
    {
     "data": {
      "text/plain": [
       "numpy.ndarray"
      ]
     },
     "execution_count": 23,
     "metadata": {},
     "output_type": "execute_result"
    }
   ],
   "source": [
    "type(ones)"
   ]
  },
  {
   "cell_type": "code",
   "execution_count": 24,
   "metadata": {},
   "outputs": [
    {
     "data": {
      "text/plain": [
       "array([[0., 0., 0.],\n",
       "       [0., 0., 0.]])"
      ]
     },
     "execution_count": 24,
     "metadata": {},
     "output_type": "execute_result"
    }
   ],
   "source": [
    "zeros = np.zeros((2, 3))       # shape of array whose each element is zero\n",
    "zeros"
   ]
  },
  {
   "cell_type": "code",
   "execution_count": 26,
   "metadata": {},
   "outputs": [
    {
     "data": {
      "text/plain": [
       "array([0, 2, 4, 6, 8])"
      ]
     },
     "execution_count": 26,
     "metadata": {},
     "output_type": "execute_result"
    }
   ],
   "source": [
    "range_array = np.arange(0, 10, 2)     # start with zero, end with ten, stepsize of two\n",
    "range_array"
   ]
  },
  {
   "cell_type": "code",
   "execution_count": 30,
   "metadata": {},
   "outputs": [
    {
     "data": {
      "text/plain": [
       "array([[6, 2, 0, 2, 9],\n",
       "       [1, 3, 0, 4, 9],\n",
       "       [7, 7, 3, 5, 2]])"
      ]
     },
     "execution_count": 30,
     "metadata": {},
     "output_type": "execute_result"
    }
   ],
   "source": [
    "random_array = np.random.randint(0, 10, size=(3, 5))\n",
    "random_array"
   ]
  },
  {
   "cell_type": "code",
   "execution_count": 32,
   "metadata": {},
   "outputs": [
    {
     "data": {
      "text/plain": [
       "15"
      ]
     },
     "execution_count": 32,
     "metadata": {},
     "output_type": "execute_result"
    }
   ],
   "source": [
    "random_array.size"
   ]
  },
  {
   "cell_type": "code",
   "execution_count": 33,
   "metadata": {},
   "outputs": [
    {
     "data": {
      "text/plain": [
       "(3, 5)"
      ]
     },
     "execution_count": 33,
     "metadata": {},
     "output_type": "execute_result"
    }
   ],
   "source": [
    "random_array.shape"
   ]
  },
  {
   "cell_type": "code",
   "execution_count": 34,
   "metadata": {},
   "outputs": [
    {
     "data": {
      "text/plain": [
       "array([[0.82275021, 0.73744501, 0.6423163 ],\n",
       "       [0.35004469, 0.20297647, 0.78674761],\n",
       "       [0.42023368, 0.99733545, 0.30672594],\n",
       "       [0.12403611, 0.91537396, 0.39839557],\n",
       "       [0.2009489 , 0.34435308, 0.00211827]])"
      ]
     },
     "execution_count": 34,
     "metadata": {},
     "output_type": "execute_result"
    }
   ],
   "source": [
    "random_array_2 = np.random.random((5, 3))     # all elements are between 0 to 1.\n",
    "random_array_2 "
   ]
  },
  {
   "cell_type": "code",
   "execution_count": 35,
   "metadata": {},
   "outputs": [
    {
     "data": {
      "text/plain": [
       "(5, 3)"
      ]
     },
     "execution_count": 35,
     "metadata": {},
     "output_type": "execute_result"
    }
   ],
   "source": [
    "random_array_2 .shape"
   ]
  },
  {
   "cell_type": "code",
   "execution_count": 37,
   "metadata": {},
   "outputs": [
    {
     "data": {
      "text/plain": [
       "array([[0.9637839 , 0.78087493, 0.92047923],\n",
       "       [0.5559965 , 0.59615551, 0.02596439],\n",
       "       [0.34944955, 0.18842748, 0.39798841],\n",
       "       [0.48606153, 0.2835391 , 0.32752789],\n",
       "       [0.83054207, 0.87581776, 0.79399148]])"
      ]
     },
     "execution_count": 37,
     "metadata": {},
     "output_type": "execute_result"
    }
   ],
   "source": [
    "random_array_3 = np.random.rand(5, 3)\n",
    "random_array_3"
   ]
  },
  {
   "cell_type": "code",
   "execution_count": null,
   "metadata": {},
   "outputs": [],
   "source": [
    "# Pseudo-random numbers"
   ]
  },
  {
   "cell_type": "code",
   "execution_count": 48,
   "metadata": {},
   "outputs": [
    {
     "data": {
      "text/plain": [
       "array([[0.07630829, 0.77991879, 0.43840923],\n",
       "       [0.72346518, 0.97798951, 0.53849587],\n",
       "       [0.50112046, 0.07205113, 0.26843898],\n",
       "       [0.4998825 , 0.67923   , 0.80373904],\n",
       "       [0.38094113, 0.06593635, 0.2881456 ]])"
      ]
     },
     "execution_count": 48,
     "metadata": {},
     "output_type": "execute_result"
    }
   ],
   "source": [
    "np.random.seed(7)\n",
    "\n",
    "        # this can fix reproduce same array at every time\n",
    "random_array_4 = np.random.random((5, 3))\n",
    "random_array_4"
   ]
  },
  {
   "cell_type": "code",
   "execution_count": 49,
   "metadata": {},
   "outputs": [
    {
     "data": {
      "text/plain": [
       "array([[0, 3, 1],\n",
       "       [8, 1, 3],\n",
       "       [8, 5, 6],\n",
       "       [0, 6, 0],\n",
       "       [4, 0, 9]])"
      ]
     },
     "execution_count": 49,
     "metadata": {},
     "output_type": "execute_result"
    }
   ],
   "source": [
    "np.random.seed(seed=99999)\n",
    "random_array_5 = np.random.randint(10, size=(5, 3))\n",
    "random_array_5"
   ]
  },
  {
   "cell_type": "markdown",
   "metadata": {},
   "source": [
    "## 3. Viewing Arrays and matrices"
   ]
  },
  {
   "cell_type": "code",
   "execution_count": 50,
   "metadata": {},
   "outputs": [
    {
     "data": {
      "text/plain": [
       "array([0, 1, 3, 4, 5, 6, 8, 9])"
      ]
     },
     "execution_count": 50,
     "metadata": {},
     "output_type": "execute_result"
    }
   ],
   "source": [
    "np.unique(random_array_5)"
   ]
  },
  {
   "cell_type": "code",
   "execution_count": 7,
   "metadata": {},
   "outputs": [
    {
     "data": {
      "text/plain": [
       "array([1, 2, 3])"
      ]
     },
     "execution_count": 7,
     "metadata": {},
     "output_type": "execute_result"
    }
   ],
   "source": [
    "a1"
   ]
  },
  {
   "cell_type": "code",
   "execution_count": 52,
   "metadata": {},
   "outputs": [
    {
     "data": {
      "text/plain": [
       "array([[1. , 2.2, 3.3],\n",
       "       [4. , 5. , 6.5]])"
      ]
     },
     "execution_count": 52,
     "metadata": {},
     "output_type": "execute_result"
    }
   ],
   "source": [
    "a2"
   ]
  },
  {
   "cell_type": "code",
   "execution_count": 53,
   "metadata": {},
   "outputs": [
    {
     "data": {
      "text/plain": [
       "array([[[ 1,  2,  3],\n",
       "        [ 4,  5,  6],\n",
       "        [ 7,  8,  9]],\n",
       "\n",
       "       [[10, 11, 12],\n",
       "        [13, 14, 15],\n",
       "        [16, 17, 18]]])"
      ]
     },
     "execution_count": 53,
     "metadata": {},
     "output_type": "execute_result"
    }
   ],
   "source": [
    "a3"
   ]
  },
  {
   "cell_type": "code",
   "execution_count": 8,
   "metadata": {},
   "outputs": [
    {
     "data": {
      "text/plain": [
       "1"
      ]
     },
     "execution_count": 8,
     "metadata": {},
     "output_type": "execute_result"
    }
   ],
   "source": [
    "a1[0]"
   ]
  },
  {
   "cell_type": "code",
   "execution_count": 9,
   "metadata": {},
   "outputs": [
    {
     "data": {
      "text/plain": [
       "array([1. , 2.2, 3.3])"
      ]
     },
     "execution_count": 9,
     "metadata": {},
     "output_type": "execute_result"
    }
   ],
   "source": [
    "a2[0]"
   ]
  },
  {
   "cell_type": "code",
   "execution_count": 10,
   "metadata": {},
   "outputs": [
    {
     "data": {
      "text/plain": [
       "array([[1, 2, 3],\n",
       "       [4, 5, 6],\n",
       "       [7, 8, 9]])"
      ]
     },
     "execution_count": 10,
     "metadata": {},
     "output_type": "execute_result"
    }
   ],
   "source": [
    "a3[0]"
   ]
  },
  {
   "cell_type": "code",
   "execution_count": 11,
   "metadata": {},
   "outputs": [
    {
     "data": {
      "text/plain": [
       "array([4. , 5. , 6.5])"
      ]
     },
     "execution_count": 11,
     "metadata": {},
     "output_type": "execute_result"
    }
   ],
   "source": [
    "a2[1]"
   ]
  },
  {
   "cell_type": "code",
   "execution_count": 12,
   "metadata": {},
   "outputs": [
    {
     "data": {
      "text/plain": [
       "array([[[ 1,  2],\n",
       "        [ 4,  5]],\n",
       "\n",
       "       [[10, 11],\n",
       "        [13, 14]]])"
      ]
     },
     "execution_count": 12,
     "metadata": {},
     "output_type": "execute_result"
    }
   ],
   "source": [
    "a3[:2, :2, :2]"
   ]
  },
  {
   "cell_type": "code",
   "execution_count": 13,
   "metadata": {},
   "outputs": [
    {
     "data": {
      "text/plain": [
       "array([[[[6, 2, 5, 4, 0],\n",
       "         [9, 0, 9, 8, 4],\n",
       "         [2, 8, 6, 7, 5],\n",
       "         [8, 0, 0, 0, 7]],\n",
       "\n",
       "        [[6, 1, 9, 6, 7],\n",
       "         [0, 0, 7, 1, 3],\n",
       "         [2, 5, 9, 9, 0],\n",
       "         [1, 0, 4, 7, 5]],\n",
       "\n",
       "        [[3, 1, 9, 4, 1],\n",
       "         [5, 9, 8, 6, 7],\n",
       "         [9, 5, 7, 1, 9],\n",
       "         [2, 1, 4, 9, 6]]],\n",
       "\n",
       "\n",
       "       [[[5, 8, 4, 0, 1],\n",
       "         [3, 6, 2, 0, 5],\n",
       "         [7, 0, 7, 5, 4],\n",
       "         [4, 5, 6, 9, 3]],\n",
       "\n",
       "        [[7, 2, 7, 6, 0],\n",
       "         [6, 2, 3, 5, 3],\n",
       "         [0, 6, 0, 5, 4],\n",
       "         [6, 3, 1, 4, 8]],\n",
       "\n",
       "        [[5, 7, 9, 0, 5],\n",
       "         [5, 0, 4, 2, 0],\n",
       "         [5, 1, 1, 2, 0],\n",
       "         [1, 7, 9, 1, 8]]]])"
      ]
     },
     "execution_count": 13,
     "metadata": {},
     "output_type": "execute_result"
    }
   ],
   "source": [
    "a4 = np.random.randint(10, size=(2, 3, 4, 5))\n",
    "a4\n"
   ]
  },
  {
   "cell_type": "code",
   "execution_count": 14,
   "metadata": {},
   "outputs": [
    {
     "data": {
      "text/plain": [
       "((2, 3, 4, 5), 4)"
      ]
     },
     "execution_count": 14,
     "metadata": {},
     "output_type": "execute_result"
    }
   ],
   "source": [
    "a4.shape, a4.ndim"
   ]
  },
  {
   "cell_type": "code",
   "execution_count": 16,
   "metadata": {},
   "outputs": [
    {
     "data": {
      "text/plain": [
       "array([[[[[5, 7, 4, 0, 7, 3],\n",
       "          [9, 4, 3, 9, 8, 4],\n",
       "          [0, 3, 9, 7, 9, 7],\n",
       "          [6, 5, 8, 9, 7, 0],\n",
       "          [1, 0, 3, 9, 5, 5]],\n",
       "\n",
       "         [[6, 1, 8, 4, 5, 4],\n",
       "          [3, 7, 2, 8, 1, 6],\n",
       "          [2, 8, 2, 3, 0, 7],\n",
       "          [3, 8, 0, 5, 6, 3],\n",
       "          [1, 2, 7, 7, 4, 0]],\n",
       "\n",
       "         [[2, 7, 9, 5, 3, 8],\n",
       "          [7, 9, 8, 6, 5, 1],\n",
       "          [0, 9, 1, 7, 9, 9],\n",
       "          [4, 1, 3, 3, 9, 6],\n",
       "          [4, 2, 4, 8, 5, 7]],\n",
       "\n",
       "         [[9, 7, 9, 2, 8, 6],\n",
       "          [7, 7, 7, 3, 0, 0],\n",
       "          [9, 2, 2, 7, 4, 5],\n",
       "          [8, 3, 5, 9, 0, 4],\n",
       "          [1, 2, 4, 5, 6, 6]]],\n",
       "\n",
       "\n",
       "        [[[5, 3, 7, 4, 8, 5],\n",
       "          [8, 9, 9, 3, 3, 8],\n",
       "          [1, 1, 5, 9, 7, 2],\n",
       "          [8, 0, 2, 3, 3, 5],\n",
       "          [9, 5, 2, 6, 6, 1]],\n",
       "\n",
       "         [[9, 4, 9, 5, 1, 4],\n",
       "          [8, 2, 2, 9, 2, 1],\n",
       "          [4, 1, 1, 8, 2, 1],\n",
       "          [1, 2, 3, 3, 7, 9],\n",
       "          [5, 2, 5, 0, 6, 0]],\n",
       "\n",
       "         [[8, 0, 4, 0, 6, 9],\n",
       "          [9, 8, 4, 9, 5, 3],\n",
       "          [2, 2, 9, 0, 4, 2],\n",
       "          [6, 1, 6, 4, 2, 7],\n",
       "          [1, 0, 1, 0, 7, 4]],\n",
       "\n",
       "         [[9, 0, 5, 4, 5, 6],\n",
       "          [2, 7, 1, 9, 8, 2],\n",
       "          [0, 3, 5, 5, 7, 8],\n",
       "          [5, 5, 3, 1, 4, 4],\n",
       "          [4, 6, 6, 7, 2, 8]]],\n",
       "\n",
       "\n",
       "        [[[3, 8, 8, 7, 4, 2],\n",
       "          [6, 1, 4, 4, 1, 1],\n",
       "          [4, 9, 7, 7, 9, 7],\n",
       "          [7, 8, 5, 2, 4, 2],\n",
       "          [4, 7, 5, 4, 7, 1]],\n",
       "\n",
       "         [[2, 1, 0, 8, 7, 1],\n",
       "          [7, 2, 8, 4, 0, 8],\n",
       "          [0, 1, 8, 3, 3, 7],\n",
       "          [0, 7, 0, 6, 1, 6],\n",
       "          [8, 6, 5, 8, 0, 1]],\n",
       "\n",
       "         [[2, 1, 3, 5, 8, 7],\n",
       "          [7, 3, 4, 3, 4, 1],\n",
       "          [4, 0, 4, 8, 6, 0],\n",
       "          [5, 0, 9, 3, 6, 4],\n",
       "          [0, 2, 3, 9, 8, 7]],\n",
       "\n",
       "         [[1, 2, 0, 1, 3, 3],\n",
       "          [8, 9, 8, 3, 7, 8],\n",
       "          [4, 2, 1, 2, 9, 8],\n",
       "          [1, 3, 2, 3, 4, 0],\n",
       "          [8, 9, 6, 8, 6, 7]]]],\n",
       "\n",
       "\n",
       "\n",
       "       [[[[0, 0, 0, 3, 4, 2],\n",
       "          [4, 1, 7, 5, 0, 8],\n",
       "          [3, 3, 9, 9, 0, 3],\n",
       "          [7, 1, 1, 5, 3, 9],\n",
       "          [6, 3, 5, 3, 8, 5]],\n",
       "\n",
       "         [[9, 5, 9, 3, 3, 7],\n",
       "          [1, 2, 5, 4, 2, 0],\n",
       "          [2, 7, 1, 9, 9, 0],\n",
       "          [9, 9, 1, 3, 9, 3],\n",
       "          [1, 7, 4, 9, 2, 9]],\n",
       "\n",
       "         [[7, 6, 2, 7, 7, 3],\n",
       "          [7, 5, 8, 9, 2, 4],\n",
       "          [3, 7, 5, 8, 4, 4],\n",
       "          [6, 1, 0, 2, 9, 7],\n",
       "          [3, 2, 4, 0, 0, 3]],\n",
       "\n",
       "         [[9, 3, 2, 7, 3, 8],\n",
       "          [8, 4, 8, 8, 7, 7],\n",
       "          [5, 7, 8, 9, 2, 3],\n",
       "          [8, 6, 0, 4, 7, 8],\n",
       "          [8, 9, 7, 5, 3, 8]]],\n",
       "\n",
       "\n",
       "        [[[6, 8, 5, 0, 8, 5],\n",
       "          [1, 3, 2, 2, 2, 8],\n",
       "          [6, 7, 7, 4, 2, 1],\n",
       "          [2, 8, 6, 8, 8, 8],\n",
       "          [9, 9, 0, 4, 3, 0]],\n",
       "\n",
       "         [[6, 1, 5, 8, 0, 8],\n",
       "          [4, 5, 6, 9, 5, 6],\n",
       "          [9, 8, 9, 5, 5, 3],\n",
       "          [8, 5, 5, 1, 2, 2],\n",
       "          [8, 9, 2, 6, 2, 5]],\n",
       "\n",
       "         [[0, 3, 3, 4, 5, 6],\n",
       "          [5, 7, 4, 0, 3, 2],\n",
       "          [7, 2, 3, 9, 9, 1],\n",
       "          [8, 4, 2, 0, 6, 9],\n",
       "          [1, 5, 2, 4, 3, 8]],\n",
       "\n",
       "         [[1, 9, 7, 0, 5, 5],\n",
       "          [8, 3, 0, 9, 7, 0],\n",
       "          [7, 5, 7, 1, 0, 6],\n",
       "          [4, 8, 2, 6, 2, 5],\n",
       "          [9, 3, 3, 4, 8, 3]]],\n",
       "\n",
       "\n",
       "        [[[5, 1, 0, 7, 0, 8],\n",
       "          [5, 0, 4, 2, 7, 2],\n",
       "          [2, 6, 9, 5, 3, 5],\n",
       "          [6, 8, 7, 7, 0, 1],\n",
       "          [2, 6, 2, 9, 5, 6]],\n",
       "\n",
       "         [[4, 1, 4, 4, 2, 0],\n",
       "          [0, 2, 7, 4, 3, 7],\n",
       "          [1, 3, 1, 6, 0, 9],\n",
       "          [4, 0, 6, 5, 5, 2],\n",
       "          [4, 6, 4, 8, 7, 1]],\n",
       "\n",
       "         [[8, 9, 0, 8, 9, 6],\n",
       "          [1, 9, 7, 4, 2, 0],\n",
       "          [7, 9, 0, 1, 1, 2],\n",
       "          [0, 2, 2, 7, 3, 4],\n",
       "          [1, 3, 6, 2, 0, 1]],\n",
       "\n",
       "         [[0, 1, 1, 4, 9, 7],\n",
       "          [2, 2, 8, 5, 8, 5],\n",
       "          [7, 2, 2, 9, 9, 4],\n",
       "          [0, 0, 6, 9, 9, 6],\n",
       "          [0, 4, 9, 6, 8, 4]]]]])"
      ]
     },
     "execution_count": 16,
     "metadata": {},
     "output_type": "execute_result"
    }
   ],
   "source": [
    "a4 = np.random.randint(10, size=(2, 3, 4, 5, 6))\n",
    "a4"
   ]
  },
  {
   "cell_type": "code",
   "execution_count": 17,
   "metadata": {},
   "outputs": [],
   "source": [
    "# get the first four no of the inner most array"
   ]
  },
  {
   "cell_type": "code",
   "execution_count": 20,
   "metadata": {},
   "outputs": [
    {
     "data": {
      "text/plain": [
       "array([[[[[5, 7, 4, 0, 7, 3]],\n",
       "\n",
       "         [[6, 1, 8, 4, 5, 4]],\n",
       "\n",
       "         [[2, 7, 9, 5, 3, 8]],\n",
       "\n",
       "         [[9, 7, 9, 2, 8, 6]]],\n",
       "\n",
       "\n",
       "        [[[5, 3, 7, 4, 8, 5]],\n",
       "\n",
       "         [[9, 4, 9, 5, 1, 4]],\n",
       "\n",
       "         [[8, 0, 4, 0, 6, 9]],\n",
       "\n",
       "         [[9, 0, 5, 4, 5, 6]]],\n",
       "\n",
       "\n",
       "        [[[3, 8, 8, 7, 4, 2]],\n",
       "\n",
       "         [[2, 1, 0, 8, 7, 1]],\n",
       "\n",
       "         [[2, 1, 3, 5, 8, 7]],\n",
       "\n",
       "         [[1, 2, 0, 1, 3, 3]]]],\n",
       "\n",
       "\n",
       "\n",
       "       [[[[0, 0, 0, 3, 4, 2]],\n",
       "\n",
       "         [[9, 5, 9, 3, 3, 7]],\n",
       "\n",
       "         [[7, 6, 2, 7, 7, 3]],\n",
       "\n",
       "         [[9, 3, 2, 7, 3, 8]]],\n",
       "\n",
       "\n",
       "        [[[6, 8, 5, 0, 8, 5]],\n",
       "\n",
       "         [[6, 1, 5, 8, 0, 8]],\n",
       "\n",
       "         [[0, 3, 3, 4, 5, 6]],\n",
       "\n",
       "         [[1, 9, 7, 0, 5, 5]]],\n",
       "\n",
       "\n",
       "        [[[5, 1, 0, 7, 0, 8]],\n",
       "\n",
       "         [[4, 1, 4, 4, 2, 0]],\n",
       "\n",
       "         [[8, 9, 0, 8, 9, 6]],\n",
       "\n",
       "         [[0, 1, 1, 4, 9, 7]]]]])"
      ]
     },
     "execution_count": 20,
     "metadata": {},
     "output_type": "execute_result"
    }
   ],
   "source": [
    "a4[:, :, :, :1]"
   ]
  },
  {
   "cell_type": "code",
   "execution_count": null,
   "metadata": {},
   "outputs": [],
   "source": []
  }
 ],
 "metadata": {
  "kernelspec": {
   "display_name": "Python 3",
   "language": "python",
   "name": "python3"
  },
  "language_info": {
   "codemirror_mode": {
    "name": "ipython",
    "version": 3
   },
   "file_extension": ".py",
   "mimetype": "text/x-python",
   "name": "python",
   "nbconvert_exporter": "python",
   "pygments_lexer": "ipython3",
   "version": "3.8.5"
  }
 },
 "nbformat": 4,
 "nbformat_minor": 4
}
